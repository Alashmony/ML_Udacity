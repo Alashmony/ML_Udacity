{
 "cells": [
  {
   "cell_type": "code",
   "execution_count": 1,
   "id": "37e3e4bf",
   "metadata": {},
   "outputs": [],
   "source": [
    "import sys\n",
    "from time import time\n",
    "sys.path.append(\"../tools/\")\n",
    "from email_preprocess import preprocess\n",
    "from sklearn import svm\n",
    "from sklearn.metrics import accuracy_score"
   ]
  },
  {
   "cell_type": "code",
   "execution_count": 2,
   "id": "60f2e03a",
   "metadata": {},
   "outputs": [
    {
     "name": "stdout",
     "output_type": "stream",
     "text": [
      "no. of Chris training emails: 7936\n",
      "no. of Sara training emails: 7884\n"
     ]
    }
   ],
   "source": [
    "### features_train and features_test are the features for the training\n",
    "### and testing datasets, respectively\n",
    "### labels_train and labels_test are the corresponding item labels\n",
    "features_train, features_test, labels_train, labels_test = preprocess()"
   ]
  },
  {
   "cell_type": "code",
   "execution_count": 3,
   "id": "8452f029",
   "metadata": {},
   "outputs": [
    {
     "name": "stdout",
     "output_type": "stream",
     "text": [
      "C value is:  1\n",
      "training time: 116.909 s\n",
      "accuracy score:  0.9926052332195677\n",
      "C value is:  10\n",
      "training time: 102.705 s\n",
      "accuracy score:  0.9948805460750854\n",
      "C value is:  100\n",
      "training time: 97.953 s\n",
      "accuracy score:  0.9960182025028441\n",
      "C value is:  1000\n",
      "training time: 102.358 s\n",
      "accuracy score:  0.9960182025028441\n",
      "C value is:  10000\n",
      "training time: 92.19 s\n",
      "accuracy score:  0.9960182025028441\n"
     ]
    }
   ],
   "source": [
    "c_vals = [1,10,100,1000,10000]\n",
    "for c_val in c_vals:\n",
    "    clf = svm.SVC(kernel='rbf', C = c_val)\n",
    "    print(\"C value is: \",c_val)\n",
    "    t0 = time()\n",
    "    clf.fit(features_train, labels_train)\n",
    "    print(\"training time:\", round(time()-t0, 3), \"s\")\n",
    "    pred = clf.predict(features_test)\n",
    "    acc_s = accuracy_score(labels_test,pred,normalize=True)\n",
    "    print(\"accuracy score: \",acc_s)"
   ]
  },
  {
   "cell_type": "code",
   "execution_count": 8,
   "id": "82bbb711",
   "metadata": {},
   "outputs": [
    {
     "name": "stdout",
     "output_type": "stream",
     "text": [
      "15820\n",
      "158\n"
     ]
    }
   ],
   "source": [
    "#shorten the training dataset \n",
    "to_cut = int(len(features_train)/100)\n",
    "print(len(features_train))\n",
    "print(to_cut)\n",
    "features_train = features_train[:to_cut]\n",
    "labels_train = labels_train[:to_cut]"
   ]
  },
  {
   "cell_type": "code",
   "execution_count": 9,
   "id": "d6924d3e",
   "metadata": {},
   "outputs": [
    {
     "name": "stdout",
     "output_type": "stream",
     "text": [
      "C value is:  1\n",
      "training time: 0.107 s\n",
      "accuracy score:  0.8953356086461889\n",
      "C value is:  10\n",
      "training time: 0.049 s\n",
      "accuracy score:  0.8998862343572241\n",
      "C value is:  100\n",
      "training time: 0.051 s\n",
      "accuracy score:  0.8998862343572241\n",
      "C value is:  1000\n",
      "training time: 0.05 s\n",
      "accuracy score:  0.8998862343572241\n",
      "C value is:  10000\n",
      "training time: 0.054 s\n",
      "accuracy score:  0.8998862343572241\n"
     ]
    }
   ],
   "source": [
    "c_vals = [1,10,100,1000,10000]\n",
    "for c_val in c_vals:\n",
    "    clf = svm.SVC(kernel='rbf', C = c_val)\n",
    "    print(\"C value is: \",c_val)\n",
    "    t0 = time()\n",
    "    clf.fit(features_train, labels_train)\n",
    "    print(\"training time:\", round(time()-t0, 3), \"s\")\n",
    "    pred = clf.predict(features_test)\n",
    "    acc_s = accuracy_score(labels_test,pred,normalize=True)\n",
    "    print(\"accuracy score: \",acc_s)"
   ]
  },
  {
   "cell_type": "code",
   "execution_count": 12,
   "id": "f93a505b",
   "metadata": {},
   "outputs": [
    {
     "data": {
      "text/plain": [
       "array([[0., 0., 0., ..., 0., 0., 0.],\n",
       "       [0., 0., 0., ..., 0., 0., 0.],\n",
       "       [0., 0., 0., ..., 0., 0., 0.],\n",
       "       ...,\n",
       "       [0., 0., 0., ..., 0., 0., 0.],\n",
       "       [0., 0., 0., ..., 0., 0., 0.],\n",
       "       [0., 0., 0., ..., 0., 0., 0.]])"
      ]
     },
     "execution_count": 12,
     "metadata": {},
     "output_type": "execute_result"
    }
   ],
   "source": [
    "features_test"
   ]
  },
  {
   "cell_type": "code",
   "execution_count": 14,
   "id": "a7339d9f",
   "metadata": {},
   "outputs": [
    {
     "name": "stdout",
     "output_type": "stream",
     "text": [
      "[1 0 1]\n"
     ]
    }
   ],
   "source": [
    "answers = clf.predict(features_test[[10,26,50]])\n",
    "\n",
    "print(answers)"
   ]
  },
  {
   "cell_type": "code",
   "execution_count": 34,
   "id": "5dbee35a",
   "metadata": {},
   "outputs": [
    {
     "name": "stdout",
     "output_type": "stream",
     "text": [
      "no. of Chris training emails: 7936\n",
      "no. of Sara training emails: 7884\n"
     ]
    }
   ],
   "source": [
    "#get full training data set again\n",
    "features_train, features_test, labels_train, labels_test = preprocess()"
   ]
  },
  {
   "cell_type": "code",
   "execution_count": 35,
   "id": "5908d12d",
   "metadata": {},
   "outputs": [
    {
     "name": "stdout",
     "output_type": "stream",
     "text": [
      "C value is:  10000\n",
      "training time: 100.272 s\n"
     ]
    }
   ],
   "source": [
    "#train on the full dataset and c = 10000\n",
    "clf_full1k = svm.SVC(kernel='rbf', C = 10000)\n",
    "print(\"C value is: \",c_val)\n",
    "t0 = time()\n",
    "clf_full1k.fit(features_train, labels_train)\n",
    "print(\"training time:\", round(time()-t0, 3), \"s\")"
   ]
  },
  {
   "cell_type": "code",
   "execution_count": 36,
   "id": "d28a2c59",
   "metadata": {},
   "outputs": [
    {
     "data": {
      "text/plain": [
       "array([0, 0, 1, ..., 1, 0, 0])"
      ]
     },
     "execution_count": 36,
     "metadata": {},
     "output_type": "execute_result"
    }
   ],
   "source": [
    "pred_full1k = clf_full1k.predict(features_test)\n",
    "pred_full1k"
   ]
  },
  {
   "cell_type": "code",
   "execution_count": 37,
   "id": "d430e476",
   "metadata": {},
   "outputs": [
    {
     "data": {
      "text/plain": [
       "866"
      ]
     },
     "execution_count": 37,
     "metadata": {},
     "output_type": "execute_result"
    }
   ],
   "source": [
    "pred_full1k.sum()"
   ]
  },
  {
   "cell_type": "code",
   "execution_count": 38,
   "id": "94cce8e8",
   "metadata": {},
   "outputs": [
    {
     "data": {
      "text/plain": [
       "0.4926052332195677"
      ]
     },
     "execution_count": 38,
     "metadata": {},
     "output_type": "execute_result"
    }
   ],
   "source": [
    "pred_full1k.mean()"
   ]
  },
  {
   "cell_type": "code",
   "execution_count": 39,
   "id": "22f9c6b9",
   "metadata": {},
   "outputs": [
    {
     "data": {
      "text/plain": [
       "1758"
      ]
     },
     "execution_count": 39,
     "metadata": {},
     "output_type": "execute_result"
    }
   ],
   "source": [
    "len(pred_full1k)"
   ]
  },
  {
   "cell_type": "code",
   "execution_count": 40,
   "id": "570a49d5",
   "metadata": {},
   "outputs": [
    {
     "data": {
      "text/plain": [
       "892"
      ]
     },
     "execution_count": 40,
     "metadata": {},
     "output_type": "execute_result"
    }
   ],
   "source": [
    "len(pred_full1k)-pred_full1k.sum()"
   ]
  },
  {
   "cell_type": "code",
   "execution_count": 41,
   "id": "32d90d70",
   "metadata": {},
   "outputs": [
    {
     "data": {
      "text/plain": [
       "array([False, False,  True, ...,  True, False, False])"
      ]
     },
     "execution_count": 41,
     "metadata": {},
     "output_type": "execute_result"
    }
   ],
   "source": [
    "pred_full1k==1"
   ]
  },
  {
   "cell_type": "code",
   "execution_count": 44,
   "id": "0aecfbda",
   "metadata": {},
   "outputs": [
    {
     "data": {
      "text/plain": [
       "865"
      ]
     },
     "execution_count": 44,
     "metadata": {},
     "output_type": "execute_result"
    }
   ],
   "source": [
    "sum(labels_test)"
   ]
  },
  {
   "cell_type": "code",
   "execution_count": null,
   "id": "b9a48c19",
   "metadata": {},
   "outputs": [],
   "source": []
  }
 ],
 "metadata": {
  "kernelspec": {
   "display_name": "Python 3",
   "language": "python",
   "name": "python3"
  },
  "language_info": {
   "codemirror_mode": {
    "name": "ipython",
    "version": 3
   },
   "file_extension": ".py",
   "mimetype": "text/x-python",
   "name": "python",
   "nbconvert_exporter": "python",
   "pygments_lexer": "ipython3",
   "version": "3.8.8"
  }
 },
 "nbformat": 4,
 "nbformat_minor": 5
}
