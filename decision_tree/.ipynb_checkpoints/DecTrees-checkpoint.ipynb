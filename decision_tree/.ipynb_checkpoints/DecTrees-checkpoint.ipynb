{
 "cells": [
  {
   "cell_type": "code",
   "execution_count": 1,
   "id": "9e8656a8",
   "metadata": {},
   "outputs": [],
   "source": [
    "import sys\n",
    "from time import time\n",
    "sys.path.append(\"../tools/\")\n",
    "from email_preprocess import preprocess\n",
    "%load_ext autoreload\n",
    "%autoreload 2"
   ]
  },
  {
   "cell_type": "code",
   "execution_count": 7,
   "id": "89d7e96a",
   "metadata": {},
   "outputs": [
    {
     "name": "stdout",
     "output_type": "stream",
     "text": [
      "no. of Chris training emails: 7936\n",
      "no. of Sara training emails: 7884\n"
     ]
    }
   ],
   "source": [
    "### features_train and features_test are the features for the training\n",
    "### and testing datasets, respectively\n",
    "### labels_train and labels_test are the corresponding item labels\n",
    "features_train, features_test, labels_train, labels_test = preprocess()"
   ]
  },
  {
   "cell_type": "code",
   "execution_count": 8,
   "id": "b3e381f3",
   "metadata": {},
   "outputs": [],
   "source": [
    "from sklearn.tree import DecisionTreeClassifier\n",
    "from sklearn.metrics import accuracy_score"
   ]
  },
  {
   "cell_type": "code",
   "execution_count": 9,
   "id": "b5fe5822",
   "metadata": {},
   "outputs": [
    {
     "name": "stdout",
     "output_type": "stream",
     "text": [
      "time to fit:  35.39\n",
      "0.9778156996587031\n"
     ]
    }
   ],
   "source": [
    "clf_40 = DecisionTreeClassifier(min_samples_split=40)\n",
    "t0 = time()\n",
    "clf_40.fit(features_train, labels_train)\n",
    "print(\"time to fit: \",round(time()-t0, 3))\n",
    "pred_40 = clf_40.predict(features_test)\n",
    "acc_40 = accuracy_score(pred_40,labels_test)\n",
    "print(acc_40)"
   ]
  },
  {
   "cell_type": "code",
   "execution_count": 10,
   "id": "07a883b3",
   "metadata": {},
   "outputs": [
    {
     "data": {
      "text/plain": [
       "3785"
      ]
     },
     "execution_count": 10,
     "metadata": {},
     "output_type": "execute_result"
    }
   ],
   "source": [
    "len(features_train[0])"
   ]
  },
  {
   "cell_type": "code",
   "execution_count": 11,
   "id": "3e211082",
   "metadata": {},
   "outputs": [
    {
     "name": "stdout",
     "output_type": "stream",
     "text": [
      "no. of Chris training emails: 7936\n",
      "no. of Sara training emails: 7884\n"
     ]
    },
    {
     "data": {
      "text/plain": [
       "379"
      ]
     },
     "execution_count": 11,
     "metadata": {},
     "output_type": "execute_result"
    }
   ],
   "source": [
    "#Changed the selector percentile to 1 instead of 10 ==> ../tools/email_preprocess.py line 62\n",
    "features_train, features_test, labels_train, labels_test = preprocess()\n",
    "len(features_train[0])"
   ]
  },
  {
   "cell_type": "code",
   "execution_count": 12,
   "id": "9115390c",
   "metadata": {},
   "outputs": [
    {
     "name": "stdout",
     "output_type": "stream",
     "text": [
      "time to fit:  3.838\n",
      "0.9670079635949943\n"
     ]
    }
   ],
   "source": [
    "#train again with less features l for less\n",
    "clf_l = DecisionTreeClassifier(min_samples_split=40)\n",
    "t0 = time()\n",
    "clf_l.fit(features_train, labels_train)\n",
    "print(\"time to fit: \",round(time()-t0, 3))\n",
    "pred_l = clf_l.predict(features_test)\n",
    "acc_l = accuracy_score(pred_l,labels_test)\n",
    "print(acc_l)"
   ]
  },
  {
   "cell_type": "code",
   "execution_count": null,
   "id": "4b314494",
   "metadata": {},
   "outputs": [],
   "source": []
  }
 ],
 "metadata": {
  "kernelspec": {
   "display_name": "Python 3",
   "language": "python",
   "name": "python3"
  },
  "language_info": {
   "codemirror_mode": {
    "name": "ipython",
    "version": 3
   },
   "file_extension": ".py",
   "mimetype": "text/x-python",
   "name": "python",
   "nbconvert_exporter": "python",
   "pygments_lexer": "ipython3",
   "version": "3.8.8"
  }
 },
 "nbformat": 4,
 "nbformat_minor": 5
}
